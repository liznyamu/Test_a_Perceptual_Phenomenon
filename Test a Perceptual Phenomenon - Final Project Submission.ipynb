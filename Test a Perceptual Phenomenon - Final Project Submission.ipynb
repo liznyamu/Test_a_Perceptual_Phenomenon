{
 "cells": [
  {
   "cell_type": "markdown",
   "metadata": {},
   "source": [
    "### Analyzing the Stroop Effect\n",
    "\n",
    "__`(1)` What is the independent variable? What is the dependent variable?__"
   ]
  },
  {
   "cell_type": "markdown",
   "metadata": {},
   "source": [
    "_Definition:_\n",
    "\n",
    "__Independent Variable or Response Variable or Outcome Variable__ - is the variable we are interested in predicting\n",
    "\n",
    "__Dependent Variable or Explanatory Variable or Predictor Variable__ - is the variable that predicts the response\n",
    "\n",
    "In our case: we want to determine or predict if on average the  time time taken to name ink colors is affected by whether or not the individual(s) is presented with a congruent or incongruent word during the test, therefore we can say that\n",
    "- the independent Variable is - the congruency of the color and text\n",
    "- the dependent Variable is - duration or time to recognise the colors or text"
   ]
  },
  {
   "cell_type": "markdown",
   "metadata": {},
   "source": [
    "__`(2)` What is an appropriate set of hypotheses for this task? Specify your null and alternative hypotheses, and clearly define any notation used. Justify your choices.__"
   ]
  },
  {
   "cell_type": "markdown",
   "metadata": {},
   "source": [
    "In our case the appropriate alternate hypothesis or what we would like to test is whether,on average, the time taken by the population to name a congruent and incongruent word differs. That is :\n",
    "\n",
    "$H_0$ : There is no significant difference in time for the population to state the colors of the words in a congruent or incongruent condition\n",
    "\n",
    "$H_1$ : There is a significant difference in time for the population to state the colors of the words in a congruent or incongruent condition\n",
    "\n",
    "_Mathematically that is :_\n",
    "\n",
    "$$H_0 : \\mu_{cong} = \\mu_{incong}$$\n",
    "$$H_1 : \\mu_{cong} \\neq \\mu_{incong} $$\n",
    "\n",
    "_The above can re-ordered as :_\n",
    "$$H_0 : \\mu_{cong} - \\mu_{incong} = 0$$\n",
    "$$H_1 : \\mu_{cong} - \\mu_{incong} \\neq 0 $$"
   ]
  },
  {
   "cell_type": "markdown",
   "metadata": {},
   "source": [
    "__`(3)` Report some descriptive statistics regarding this dataset. Include at least one measure of central tendency and at least one measure of variability. The name of the data file is 'stroopdata.csv'.__"
   ]
  },
  {
   "cell_type": "code",
   "execution_count": 11,
   "metadata": {},
   "outputs": [
    {
     "data": {
      "text/html": [
       "<div>\n",
       "<style scoped>\n",
       "    .dataframe tbody tr th:only-of-type {\n",
       "        vertical-align: middle;\n",
       "    }\n",
       "\n",
       "    .dataframe tbody tr th {\n",
       "        vertical-align: top;\n",
       "    }\n",
       "\n",
       "    .dataframe thead th {\n",
       "        text-align: right;\n",
       "    }\n",
       "</style>\n",
       "<table border=\"1\" class=\"dataframe\">\n",
       "  <thead>\n",
       "    <tr style=\"text-align: right;\">\n",
       "      <th></th>\n",
       "      <th>Congruent</th>\n",
       "      <th>Incongruent</th>\n",
       "    </tr>\n",
       "  </thead>\n",
       "  <tbody>\n",
       "    <tr>\n",
       "      <th>0</th>\n",
       "      <td>12.079</td>\n",
       "      <td>19.278</td>\n",
       "    </tr>\n",
       "    <tr>\n",
       "      <th>1</th>\n",
       "      <td>16.791</td>\n",
       "      <td>18.741</td>\n",
       "    </tr>\n",
       "    <tr>\n",
       "      <th>2</th>\n",
       "      <td>9.564</td>\n",
       "      <td>21.214</td>\n",
       "    </tr>\n",
       "    <tr>\n",
       "      <th>3</th>\n",
       "      <td>8.630</td>\n",
       "      <td>15.687</td>\n",
       "    </tr>\n",
       "    <tr>\n",
       "      <th>4</th>\n",
       "      <td>14.669</td>\n",
       "      <td>22.803</td>\n",
       "    </tr>\n",
       "  </tbody>\n",
       "</table>\n",
       "</div>"
      ],
      "text/plain": [
       "   Congruent  Incongruent\n",
       "0     12.079       19.278\n",
       "1     16.791       18.741\n",
       "2      9.564       21.214\n",
       "3      8.630       15.687\n",
       "4     14.669       22.803"
      ]
     },
     "execution_count": 11,
     "metadata": {},
     "output_type": "execute_result"
    }
   ],
   "source": [
    "#load data and neccessary modules\n",
    "import numpy as np\n",
    "import pandas as pd\n",
    "import matplotlib.pyplot as plt\n",
    "import seaborn as sns\n",
    "from scipy import stats\n",
    "\n",
    "%matplotlib inline\n",
    "\n",
    "df = pd.read_csv('data/stroopdata.csv')\n",
    "df.head()"
   ]
  },
  {
   "cell_type": "code",
   "execution_count": 5,
   "metadata": {},
   "outputs": [
    {
     "data": {
      "text/plain": [
       "Congruent      14.051125\n",
       "Incongruent    22.015917\n",
       "dtype: float64"
      ]
     },
     "execution_count": 5,
     "metadata": {},
     "output_type": "execute_result"
    }
   ],
   "source": [
    "df.mean() #on average, it take longer to name an incongruent word"
   ]
  },
  {
   "cell_type": "code",
   "execution_count": 7,
   "metadata": {},
   "outputs": [
    {
     "data": {
      "text/plain": [
       "Congruent      14.3565\n",
       "Incongruent    21.0175\n",
       "dtype: float64"
      ]
     },
     "execution_count": 7,
     "metadata": {},
     "output_type": "execute_result"
    }
   ],
   "source": [
    "df.median() #at the 50% percentile - it still takes longer to respond to incongruent words"
   ]
  },
  {
   "cell_type": "code",
   "execution_count": 12,
   "metadata": {},
   "outputs": [
    {
     "data": {
      "text/plain": [
       "Congruent      3.559358\n",
       "Incongruent    4.797057\n",
       "dtype: float64"
      ]
     },
     "execution_count": 12,
     "metadata": {},
     "output_type": "execute_result"
    }
   ],
   "source": [
    "#set ddof = 1 as the data is of a sample not a population\n",
    "df.std(ddof=1) #seems the incongruent data is more spread"
   ]
  },
  {
   "cell_type": "markdown",
   "metadata": {},
   "source": [
    "#### Descriptive Statistics Summary :\n",
    "\n",
    "On average - an individual takes longer (22.01) to name an incongruent word, compared to 14.05 on naming congruent words\n"
   ]
  },
  {
   "cell_type": "markdown",
   "metadata": {},
   "source": [
    "__`(4)` Provide one or two visualizations that show the distribution of the sample data. Write one or two sentences noting what you observe about the plot or plots.__"
   ]
  },
  {
   "cell_type": "code",
   "execution_count": 8,
   "metadata": {},
   "outputs": [
    {
     "data": {
      "image/png": "[encoded data removed]",
      "text/plain": [
       "<Figure size 432x288 with 1 Axes>"
      ]
     },
     "metadata": {},
     "output_type": "display_data"
    }
   ],
   "source": [
    "#create a histogram - to observe the shape of our data\n",
    "plt.hist(df['Congruent'], alpha=0.5)\n",
    "plt.hist(df['Incongruent'], alpha=0.5); "
   ]
  },
  {
   "cell_type": "code",
   "execution_count": 10,
   "metadata": {},
   "outputs": [
    {
     "data": {
      "image/png": "[encoded data removed]",
      "text/plain": [
       "<Figure size 432x432 with 1 Axes>"
      ]
     },
     "metadata": {},
     "output_type": "display_data"
    }
   ],
   "source": [
    "#create a histogram and boxplots - to observe the shape of our data\n",
    "#Boxplots multiple columns - http://bit.ly/2MPIxa8  \n",
    "#Resize Figure -  http://bit.ly/2pjhYR6\n",
    "fig, ax = plt.subplots()\n",
    "# the size of A4 paper\n",
    "fig.set_size_inches(6, 6)\n",
    "sns.boxplot(x=\"variable\", y=\"value\", data=pd.melt(df), ax=ax);"
   ]
  },
  {
   "cell_type": "markdown",
   "metadata": {},
   "source": [
    "#### Shape : Congruent Data and Incongruent Data:\n",
    "\n",
    "Congruent seems to be skewed to the right while the incongruent data is left-skewed with some outliers higher spectrum of the data"
   ]
  },
  {
   "cell_type": "markdown",
   "metadata": {},
   "source": [
    "__`(5)`  Now, perform the statistical test and report your results. What is your confidence level or Type I error associated with your test? What is your conclusion regarding the hypotheses you set up? Did the results match up with your expectations? `Hint:`  Think about what is being measured on each individual, and what statistic best captures how an individual reacts in each environment.__"
   ]
  },
  {
   "cell_type": "markdown",
   "metadata": {
    "collapsed": true
   },
   "source": [
    "#### Selected Test Statistic :\n",
    "The test statistic that best captures how an individual reacts in each environment (that on congruent and incongruent words) is the __Dependent T-test for Paired samples__\n",
    "\n",
    "_Dependent T-test for Paired samples:_ is used when there is only one sample that has been tested twice (that is we have repeated measures) or two samples that have been matched or paired \n",
    "\n",
    "#### Assumptions \n",
    "This test assumes :\n",
    "1. The differences are of the measured variable, in our case we are using the differences in the dependent variable that is duration taken to identify colors and text\n",
    "2. Sampling is random and the pairs of observations are independent\n",
    "3. The difference in means is normally distributed"
   ]
  },
  {
   "cell_type": "code",
   "execution_count": 3,
   "metadata": {},
   "outputs": [
    {
     "data": {
      "text/plain": [
       "Ttest_relResult(statistic=-8.020706944109957, pvalue=4.103000585711178e-08)"
      ]
     },
     "execution_count": 3,
     "metadata": {},
     "output_type": "execute_result"
    }
   ],
   "source": [
    "#perform statistical analysis - http://bit.ly/2pl6dcW - Scipy ttest_rel\n",
    "stats.ttest_rel(df['Congruent'], df['Incongruent'])"
   ]
  },
  {
   "cell_type": "markdown",
   "metadata": {},
   "source": [
    "#### Inferential Statistics Conclusions\n",
    "Our Type I Error threshold is $\\alpha$ = 0.05 (or 95% confidence interval) - we observe a p-value less than our $\\alpha$ therefore we reject our null hypothesis and conclude that there is statistical evidence that on average the response times when identifying the congruent and incongruent words significantly differs.\n",
    "\n",
    "This is in line with what we expected, that is the individuals would take longer to name the incongruent words than the congruent words. "
   ]
  },
  {
   "cell_type": "markdown",
   "metadata": {},
   "source": [
    "__`(6)` Optional: What do you think is responsible for the effects observed? Can you think of an alternative or similar task that would result in a similar effect? Some research about the problem will be helpful for thinking about these two questions!__"
   ]
  },
  {
   "cell_type": "markdown",
   "metadata": {},
   "source": [
    "#### What is responsible for above effects :\n",
    "The above effects of individuals taking a longer on naming incongruent words (compared to congruent words) can be attributed to the fact that humans are involuntary readers - we see words before anything else. Therefore it would be expected identifying colors on congruent words would require much less effort than incongruent words.\n",
    "\n",
    "#### Alternative Experiements with similar results :\n",
    "In marketing, advertisers will go words that make their goods and services seem better to the target niche using words like 'the better option', 'simple', 'reliable' or 'fast' than their rivals. Customers find themselves going for such goods and services even when they may not be that different from what their competitor are offering."
   ]
  },
  {
   "cell_type": "code",
   "execution_count": null,
   "metadata": {},
   "outputs": [],
   "source": []
  }
 ],
 "metadata": {
  "kernelspec": {
   "display_name": "Python 3",
   "language": "python",
   "name": "python3"
  },
  "language_info": {
   "codemirror_mode": {
    "name": "ipython",
    "version": 3
   },
   "file_extension": ".py",
   "mimetype": "text/x-python",
   "name": "python",
   "nbconvert_exporter": "python",
   "pygments_lexer": "ipython3",
   "version": "3.7.1"
  }
 },
 "nbformat": 4,
 "nbformat_minor": 2
}
